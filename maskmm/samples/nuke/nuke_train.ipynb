{
 "cells": [
  {
   "cell_type": "code",
   "execution_count": 1,
   "metadata": {},
   "outputs": [
    {
     "name": "stderr",
     "output_type": "stream",
     "text": [
      "[root:INFO]: (ipstartup.py:17, time=11:35)\n"
     ]
    },
    {
     "data": {
      "text/html": [
       "<style>audio{display:none}</style>"
      ],
      "text/plain": [
       "<IPython.core.display.HTML object>"
      ]
     },
     "metadata": {},
     "output_type": "execute_result"
    }
   ],
   "source": [
    "from maskmm.ipstartup import *\n",
    "from maskmm.utils import visualize\n",
    "from config import Config\n",
    "from maskmm.baseline import rngreset\n",
    "from learner import *\n",
    "\n",
    "class Config(Config):\n",
    "    NAME = \"mm\"  \n",
    "    GPU_COUNT=1\n",
    "    COMPAT = False\n",
    "    AUGMENT = False\n",
    "    SHUFFLE = True\n",
    "    IMAGES_PER_GPU=4\n",
    "config = Config()\n",
    "rngreset()"
   ]
  },
  {
   "cell_type": "code",
   "execution_count": 2,
   "metadata": {},
   "outputs": [
    {
     "name": "stderr",
     "output_type": "stream",
     "text": [
      "[root:INFO]:starting (cellevents.py:36, time=11:35)\n",
      "[root:INFO]:train    505\n",
      "valid    123\n",
      "Name: subset, dtype: int64 (learner.py:31, time=11:35)\n"
     ]
    },
    {
     "name": "stdout",
     "output_type": "stream",
     "text": [
      "time: 582 ms\n"
     ]
    }
   ],
   "source": [
    "learn = get_learn(config)"
   ]
  },
  {
   "cell_type": "code",
   "execution_count": null,
   "metadata": {
    "scrolled": false
   },
   "outputs": [
    {
     "name": "stderr",
     "output_type": "stream",
     "text": [
      "[root:INFO]:starting (cellevents.py:36, time=11:35)\n"
     ]
    },
    {
     "data": {
      "text/plain": [
       "VBox(children=(HBox(children=(IntProgress(value=0, max=1), HTML(value='0.00% [0/1 00:00<00:00]'))), HTML(value…"
      ]
     },
     "metadata": {},
     "output_type": "display_data"
    },
    {
     "name": "stderr",
     "output_type": "stream",
     "text": [
      "[root:INFO]:['tot=2.2565', 'rc=0.0837', 'rb=0.3014', 'c=0.7280', 'b=0.5470', 'm=0.5963'] (callbacks.py:38, time=11:35)\n",
      "[root:INFO]:['tot=2.8466', 'rc=0.8537', 'rb=0.2491', 'c=0.6493', 'b=0.4888', 'm=0.6058'] (callbacks.py:38, time=11:35)\n",
      "[root:INFO]:['tot=3.5806', 'rc=0.5346', 'rb=1.4064', 'c=0.5680', 'b=0.5063', 'm=0.5653'] (callbacks.py:38, time=11:35)\n",
      "[root:INFO]:['tot=2.3759', 'rc=0.5986', 'rb=0.2330', 'c=0.5271', 'b=0.4981', 'm=0.5191'] (callbacks.py:38, time=11:36)\n",
      "[root:INFO]:['tot=2.5869', 'rc=0.7684', 'rb=0.2799', 'c=0.4943', 'b=0.5631', 'm=0.4812'] (callbacks.py:38, time=11:36)\n",
      "[root:INFO]:['tot=1.8896', 'rc=0.1947', 'rb=0.2315', 'c=0.4649', 'b=0.5265', 'm=0.4720'] (callbacks.py:38, time=11:36)\n",
      "[root:INFO]:['tot=1.6391', 'rc=0.0794', 'rb=0.2083', 'c=0.4535', 'b=0.4790', 'm=0.4188'] (callbacks.py:38, time=11:36)\n",
      "[root:INFO]:['tot=2.0007', 'rc=0.2793', 'rb=0.4183', 'c=0.4627', 'b=0.4238', 'm=0.4167'] (callbacks.py:38, time=11:37)\n",
      "[root:INFO]:['tot=1.5656', 'rc=0.2112', 'rb=0.2176', 'c=0.3886', 'b=0.3881', 'm=0.3601'] (callbacks.py:38, time=11:37)\n",
      "[root:INFO]:['tot=1.6510', 'rc=0.1208', 'rb=0.2707', 'c=0.4652', 'b=0.4050', 'm=0.3892'] (callbacks.py:38, time=11:37)\n",
      "[root:INFO]:['tot=1.6454', 'rc=0.2339', 'rb=0.3572', 'c=0.3898', 'b=0.3304', 'm=0.3341'] (callbacks.py:38, time=11:37)\n",
      "[root:INFO]:['tot=1.5637', 'rc=0.1432', 'rb=0.3420', 'c=0.4276', 'b=0.3226', 'm=0.3283'] (callbacks.py:38, time=11:37)\n",
      "[root:INFO]:['tot=1.6107', 'rc=0.1184', 'rb=0.3262', 'c=0.4426', 'b=0.3400', 'm=0.3835'] (callbacks.py:38, time=11:38)\n",
      "[root:INFO]:['tot=1.6098', 'rc=0.2460', 'rb=0.3394', 'c=0.3475', 'b=0.3485', 'm=0.3283'] (callbacks.py:38, time=11:38)\n",
      "[root:INFO]:['tot=4.1783', 'rc=0.6887', 'rb=1.6101', 'c=0.7306', 'b=0.5222', 'm=0.6267'] (callbacks.py:38, time=11:38)\n",
      "[root:INFO]:['tot=1.2865', 'rc=0.1545', 'rb=0.3379', 'c=0.3127', 'b=0.2393', 'm=0.2420'] (callbacks.py:38, time=11:38)\n",
      "[root:INFO]:['tot=1.3293', 'rc=0.1241', 'rb=0.2748', 'c=0.3880', 'b=0.2731', 'm=0.2693'] (callbacks.py:38, time=11:39)\n",
      "[root:INFO]:['tot=1.1442', 'rc=0.0889', 'rb=0.2387', 'c=0.2704', 'b=0.2940', 'm=0.2522'] (callbacks.py:38, time=11:39)\n",
      "[root:INFO]:['tot=1.1751', 'rc=0.1062', 'rb=0.2761', 'c=0.3784', 'b=0.2014', 'm=0.2130'] (callbacks.py:38, time=11:39)\n",
      "[root:INFO]:['tot=1.1387', 'rc=0.1551', 'rb=0.2138', 'c=0.2978', 'b=0.2260', 'm=0.2461'] (callbacks.py:38, time=11:39)\n",
      "[root:INFO]:['tot=1.4691', 'rc=0.1307', 'rb=0.2968', 'c=0.4666', 'b=0.2717', 'm=0.3033'] (callbacks.py:38, time=11:39)\n",
      "[root:INFO]:['tot=0.9788', 'rc=0.0890', 'rb=0.2644', 'c=0.3269', 'b=0.1438', 'm=0.1546'] (callbacks.py:38, time=11:40)\n",
      "[root:INFO]:['tot=1.2413', 'rc=0.0737', 'rb=0.4960', 'c=0.3084', 'b=0.1731', 'm=0.1900'] (callbacks.py:38, time=11:40)\n",
      "[root:INFO]:['tot=0.7211', 'rc=0.0336', 'rb=0.2011', 'c=0.1959', 'b=0.1320', 'm=0.1585'] (callbacks.py:38, time=11:40)\n",
      "[root:INFO]:['tot=1.0924', 'rc=0.0551', 'rb=0.2935', 'c=0.2744', 'b=0.2227', 'm=0.2466'] (callbacks.py:38, time=11:40)\n",
      "[root:INFO]:['tot=1.1234', 'rc=0.0762', 'rb=0.2980', 'c=0.4200', 'b=0.1616', 'm=0.1676'] (callbacks.py:38, time=11:41)\n",
      "[root:INFO]:['tot=2.0434', 'rc=0.1792', 'rb=0.6162', 'c=0.4464', 'b=0.3795', 'm=0.4221'] (callbacks.py:38, time=11:41)\n",
      "[root:INFO]:['tot=0.8566', 'rc=0.0393', 'rb=0.2988', 'c=0.2298', 'b=0.1300', 'm=0.1586'] (callbacks.py:38, time=11:41)\n",
      "[root:INFO]:['tot=0.8870', 'rc=0.0435', 'rb=0.2419', 'c=0.2926', 'b=0.1339', 'm=0.1751'] (callbacks.py:38, time=11:41)\n"
     ]
    }
   ],
   "source": [
    "learn.fit(1, lr=.01)"
   ]
  },
  {
   "cell_type": "code",
   "execution_count": null,
   "metadata": {},
   "outputs": [],
   "source": [
    "learn.lr_find()"
   ]
  },
  {
   "cell_type": "code",
   "execution_count": 7,
   "metadata": {},
   "outputs": [
    {
     "name": "stderr",
     "output_type": "stream",
     "text": [
      "[root:INFO]:starting (cellevents.py:36, time=20:57)\n"
     ]
    },
    {
     "data": {
      "image/png": "[encoded data removed]",
      "text/plain": [
       "<Figure size 432x288 with 1 Axes>"
      ]
     },
     "metadata": {
      "needs_background": "light"
     },
     "output_type": "display_data"
    },
    {
     "name": "stdout",
     "output_type": "stream",
     "text": [
      "time: 221 ms\n"
     ]
    }
   ],
   "source": [
    "learn.recorder.plot_losses()"
   ]
  }
 ],
 "metadata": {
  "kernelspec": {
   "display_name": "Python 3",
   "language": "python",
   "name": "python3"
  },
  "language_info": {
   "codemirror_mode": {
    "name": "ipython",
    "version": 3
   },
   "file_extension": ".py",
   "mimetype": "text/x-python",
   "name": "python",
   "nbconvert_exporter": "python",
   "pygments_lexer": "ipython3",
   "version": "3.6.6"
  }
 },
 "nbformat": 4,
 "nbformat_minor": 2
}
