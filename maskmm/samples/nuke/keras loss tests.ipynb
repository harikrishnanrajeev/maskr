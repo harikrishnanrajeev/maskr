{
 "cells": [
  {
   "cell_type": "code",
   "execution_count": 21,
   "metadata": {},
   "outputs": [
    {
     "name": "stderr",
     "output_type": "stream",
     "text": [
      "[root:INFO]:starting (cellevents.py:36, time=20:53)\n"
     ]
    },
    {
     "name": "stdout",
     "output_type": "stream",
     "text": [
      "time: 19.6 ms\n"
     ]
    }
   ],
   "source": [
    "from maskmm.ipstartup import *\n",
    "from maskmm.kerasloss import *\n",
    "from maskmm.tracker import *\n",
    "from maskmm.utils.utils import pad\n",
    "tracker.__init__(\"keras1\", enabled=True, tolerance=0, basename=\"l0\", \\\n",
    "                exclude_vars=(\"build_rpn_targets.config\"))\n",
    "tracker.clear()\n",
    "from maskmm.config import Config\n",
    "config = Config()\n",
    "\n",
    "def t(name):\n",
    "    \"\"\" load pytorch tensor and convert to tensorflow \"\"\"\n",
    "    x = load0(name)\n",
    "    if name.startswith(\"mrcnn_class.\"):\n",
    "        x = pad(x, 200)\n",
    "        x = x.unsqueeze(0)\n",
    "    return tf.convert_to_tensor(x.cpu().detach().numpy())\n",
    "\n",
    "def getruns(*args):\n",
    "    \"\"\" prepare arguments for test \"\"\"\n",
    "    runs = []\n",
    "    for n in range(3):\n",
    "        run = []\n",
    "        for arg in args:\n",
    "            data = t(f\"{arg}_{n}\")\n",
    "            run.append(data)\n",
    "        runs.append(run)\n",
    "    return runs\n",
    "    byvar = list(zip(*runs))\n",
    "    stacked = []\n",
    "    for var in byvar:\n",
    "        stacked.append(K.stack([K.squeeze(item,0) for item in var]))\n",
    "    runs.append(stacked)\n",
    "    return runs"
   ]
  },
  {
   "cell_type": "code",
   "execution_count": 2,
   "metadata": {},
   "outputs": [
    {
     "name": "stderr",
     "output_type": "stream",
     "text": [
      "[root:INFO]:starting (cellevents.py:36, time=20:24)\n",
      "[root:INFO]:[[1, 261888], [1, 261888, 2]] (<ipython-input-2-3d7215543a2b>:4, time=20:24)\n"
     ]
    },
    {
     "data": {
      "text/plain": [
       "0.0706761"
      ]
     },
     "metadata": {},
     "output_type": "display_data"
    },
    {
     "name": "stderr",
     "output_type": "stream",
     "text": [
      "[root:INFO]:[[1, 261888], [1, 261888, 2]] (<ipython-input-2-3d7215543a2b>:4, time=20:24)\n"
     ]
    },
    {
     "data": {
      "text/plain": [
       "2.4674687"
      ]
     },
     "metadata": {},
     "output_type": "display_data"
    },
    {
     "name": "stderr",
     "output_type": "stream",
     "text": [
      "[root:INFO]:[[1, 261888], [1, 261888, 2]] (<ipython-input-2-3d7215543a2b>:4, time=20:24)\n"
     ]
    },
    {
     "data": {
      "text/plain": [
       "0.012074454"
      ]
     },
     "metadata": {},
     "output_type": "display_data"
    },
    {
     "name": "stderr",
     "output_type": "stream",
     "text": [
      "[root:INFO]:[[3, 261888], [3, 261888, 2]] (<ipython-input-2-3d7215543a2b>:4, time=20:24)\n"
     ]
    },
    {
     "data": {
      "text/plain": [
       "0.85007304"
      ]
     },
     "metadata": {},
     "output_type": "display_data"
    },
    {
     "name": "stdout",
     "output_type": "stream",
     "text": [
      "time: 430 ms\n"
     ]
    }
   ],
   "source": [
    "# rpn_class_loss input shapes and return value\n",
    "runs = getruns(\"rpn_class.rpn_match\", \"rpn_class.rpn_class_logits\")\n",
    "for run in runs:\n",
    "    log.info([r.shape.as_list() for r in run])\n",
    "    d(rpn_class_loss_graph(*run))"
   ]
  },
  {
   "cell_type": "code",
   "execution_count": 3,
   "metadata": {},
   "outputs": [
    {
     "name": "stderr",
     "output_type": "stream",
     "text": [
      "[root:INFO]:starting (cellevents.py:36, time=20:24)\n",
      "[root:INFO]:[[1, 256, 4], [1, 261888], [1, 261888, 4]] (<ipython-input-3-76bc841d48f7>:3, time=20:24)\n"
     ]
    },
    {
     "data": {
      "text/plain": [
       "0.16219305"
      ]
     },
     "metadata": {},
     "output_type": "display_data"
    },
    {
     "name": "stderr",
     "output_type": "stream",
     "text": [
      "[root:INFO]:[[1, 256, 4], [1, 261888], [1, 261888, 4]] (<ipython-input-3-76bc841d48f7>:3, time=20:24)\n"
     ]
    },
    {
     "data": {
      "text/plain": [
       "2.3060346"
      ]
     },
     "metadata": {},
     "output_type": "display_data"
    },
    {
     "name": "stderr",
     "output_type": "stream",
     "text": [
      "[root:INFO]:[[1, 256, 4], [1, 261888], [1, 261888, 4]] (<ipython-input-3-76bc841d48f7>:3, time=20:24)\n"
     ]
    },
    {
     "data": {
      "text/plain": [
       "0.094461724"
      ]
     },
     "metadata": {},
     "output_type": "display_data"
    },
    {
     "name": "stderr",
     "output_type": "stream",
     "text": [
      "[root:INFO]:[[3, 256, 4], [3, 261888], [3, 261888, 4]] (<ipython-input-3-76bc841d48f7>:3, time=20:24)\n"
     ]
    },
    {
     "data": {
      "text/plain": [
       "1.7550664"
      ]
     },
     "metadata": {},
     "output_type": "display_data"
    },
    {
     "name": "stdout",
     "output_type": "stream",
     "text": [
      "time: 53.6 ms\n"
     ]
    }
   ],
   "source": [
    "runs = getruns(\"rpn_bbox.target_bbox\", \"rpn_bbox.rpn_match\", \"rpn_bbox.rpn_bbox\")\n",
    "for run in runs:\n",
    "    log.info([r.shape.as_list() for r in run])\n",
    "\n",
    "    d(rpn_bbox_loss_graph(config, *run))"
   ]
  },
  {
   "cell_type": "code",
   "execution_count": 22,
   "metadata": {},
   "outputs": [
    {
     "name": "stderr",
     "output_type": "stream",
     "text": [
      "[root:INFO]:starting (cellevents.py:36, time=20:53)\n",
      "[root:INFO]:[[1, 200], [1, 200, 2]] (<ipython-input-22-ba712c8c12b4>:8, time=20:53)\n"
     ]
    },
    {
     "data": {
      "text/plain": [
       "0.774633"
      ]
     },
     "metadata": {},
     "output_type": "display_data"
    },
    {
     "name": "stderr",
     "output_type": "stream",
     "text": [
      "[root:INFO]:[[1, 200], [1, 200, 2]] (<ipython-input-22-ba712c8c12b4>:8, time=20:53)\n"
     ]
    },
    {
     "data": {
      "text/plain": [
       "0.728039"
      ]
     },
     "metadata": {},
     "output_type": "display_data"
    },
    {
     "name": "stderr",
     "output_type": "stream",
     "text": [
      "[root:INFO]:[[1, 200], [1, 200, 2]] (<ipython-input-22-ba712c8c12b4>:8, time=20:53)\n"
     ]
    },
    {
     "data": {
      "text/plain": [
       "nan"
      ]
     },
     "metadata": {},
     "output_type": "display_data"
    },
    {
     "name": "stdout",
     "output_type": "stream",
     "text": [
      "time: 51.8 ms\n"
     ]
    }
   ],
   "source": [
    "##### MASKMM DOES NOT MATCH THESE FOR IMAGE 0 or 1\n",
    "##### input 0 is 157 but has trailing zeros\n",
    "##### image 2 has no predictions????\n",
    " sparse_softmax_cross_entropy_with_logits versus nll_loss\n",
    "\n",
    "active_class_ids = tf.convert_to_tensor(np.array([[0,1]]).astype(np.float32))\n",
    "runs = getruns(\"mrcnn_class.target_class_ids\", \"mrcnn_class.pred_class_logits\")\n",
    "for run in runs:\n",
    "    log.info([r.shape.as_list() for r in run])\n",
    "    d(mrcnn_class_loss_graph(*run, active_class_ids))"
   ]
  },
  {
   "cell_type": "code",
   "execution_count": 5,
   "metadata": {},
   "outputs": [
    {
     "name": "stderr",
     "output_type": "stream",
     "text": [
      "[root:INFO]:starting (cellevents.py:36, time=20:45)\n",
      "[root:WARNING]:not comparable mrcnn_class.target_class_ids_1 * cuda Tensor float32 [157] * cuda Tensor float32 [200] (tracker.py:244, time=20:45)\n",
      "[root:WARNING]:not comparable mrcnn_class.pred_class_logits_1 * cuda Tensor float32 [157, 2] * cuda Tensor float32 [200, 2] (tracker.py:244, time=20:45)\n",
      "[root:WARNING]:content unequal mrcnn_class.r0_1=3e-02 (tracker.py:238, time=20:45)\n"
     ]
    },
    {
     "data": {
      "text/plain": [
       "tensor(0.7665, grad_fn=<NllLossBackward>)"
      ]
     },
     "metadata": {},
     "output_type": "display_data"
    },
    {
     "name": "stderr",
     "output_type": "stream",
     "text": [
      "[root:INFO]:matched mrcnn_class.target_class_ids_2 (tracker.py:242, time=20:45)\n",
      "[root:WARNING]:content unequal mrcnn_class.pred_class_logits_2=4e+02 (tracker.py:238, time=20:45)\n",
      "[root:WARNING]:content unequal mrcnn_class.r0_2=1e-04 (tracker.py:238, time=20:45)\n"
     ]
    },
    {
     "data": {
      "text/plain": [
       "tensor(0.5912, grad_fn=<NllLossBackward>)"
      ]
     },
     "metadata": {},
     "output_type": "display_data"
    },
    {
     "name": "stderr",
     "output_type": "stream",
     "text": [
      "[root:WARNING]:not comparable mrcnn_class.target_class_ids_3 * cuda Tensor float32 [200] * cuda Tensor float32 [151] (tracker.py:244, time=20:45)\n",
      "[root:WARNING]:not comparable mrcnn_class.pred_class_logits_3 * cuda Tensor float32 [200, 2] * cuda Tensor float32 [151, 2] (tracker.py:244, time=20:45)\n",
      "[root:WARNING]:content unequal mrcnn_class.r0_3=4e-02 (tracker.py:238, time=20:45)\n"
     ]
    },
    {
     "data": {
      "text/plain": [
       "tensor(0.5810, grad_fn=<NllLossBackward>)"
      ]
     },
     "metadata": {},
     "output_type": "display_data"
    },
    {
     "name": "stdout",
     "output_type": "stream",
     "text": [
      "time: 151 ms\n"
     ]
    }
   ],
   "source": [
    "# pytorch class loss - different result including number for n=2\n",
    "from maskmm.loss import *\n",
    "d(mrcnn_class(load0(\"mrcnn_class.target_class_ids_0\"), load0(\"mrcnn_class.pred_class_logits_0\")))\n",
    "d(mrcnn_class(load0(\"mrcnn_class.target_class_ids_1\"), load0(\"mrcnn_class.pred_class_logits_1\")))\n",
    "d(mrcnn_class(load0(\"mrcnn_class.target_class_ids_2\"), load0(\"mrcnn_class.pred_class_logits_2\")))"
   ]
  }
 ],
 "metadata": {
  "kernelspec": {
   "display_name": "Python 3",
   "language": "python",
   "name": "python3"
  },
  "language_info": {
   "codemirror_mode": {
    "name": "ipython",
    "version": 3
   },
   "file_extension": ".py",
   "mimetype": "text/x-python",
   "name": "python",
   "nbconvert_exporter": "python",
   "pygments_lexer": "ipython3",
   "version": "3.6.6"
  }
 },
 "nbformat": 4,
 "nbformat_minor": 2
}
